{
  "nbformat": 4,
  "nbformat_minor": 0,
  "metadata": {
    "colab": {
      "provenance": []
    },
    "kernelspec": {
      "name": "python3",
      "display_name": "Python 3"
    },
    "language_info": {
      "name": "python"
    }
  },
  "cells": [
    {
      "cell_type": "markdown",
      "source": [
        "# Notebook with Code to Scrape data off the Census of India [Website](https://censusindia.gov.in/census.website/data/census-tables)\n",
        "Our original effort was to understand the [Gender Polyconflict](https://messenger.substack.com/p/thinking-in-public-the-case-for-gender) through any relevant data available.\n",
        "\n",
        "Sifting through the Census of India website in a systematic manner, we ended up documenting our effort in a spreadsheet, which we call the [Metadata](https://github.com/SocratusCollective/gender-polyconflict/blob/main/Metadata_2011.xlsx) sheet. We have included several details within the sheet in the hope that it is self-explanatory.\n",
        "\n",
        "Once done, we figured we could use it to actually download all of the data we needed. This notebook contains the code used to do just that.\n",
        "\n",
        "We use Google Drive to store any files needed for our analysis. We store data and metadata as Google Sheets. If you prefer to not use Google, you could use your local computer storage and/or another cloud service and a different spreadsheet software.\n",
        "\n",
        "## If you intend to use our Metadata sheet and the code in this notebook as such, you will...\n",
        "... need access to Google Drive, Colab and Sheets and should first do the below:\n",
        "\n",
        "- Download the Metadata sheet as an Excel file,\n",
        "- Upload it as a Google Sheet (not just an Excel file), on Google Drive,\n",
        "- Note down the Google Sheet's ID (see how-to instructions [here](https://stackoverflow.com/questions/36061433/how-do-i-locate-a-google-spreadsheet-id))\n",
        "- Create a folder in which to dump data downloaded from the Census of India website, and note its path."
      ],
      "metadata": {
        "id": "wcR54G88WnN8"
      }
    },
    {
      "cell_type": "code",
      "source": [
        "# Install & import required libraries\n",
        "!pip install --quiet gspread oauth2client\n",
        "from google.colab import auth, drive\n",
        "import gspread\n",
        "from oauth2client.service_account import ServiceAccountCredentials\n",
        "from google.auth import default\n",
        "import requests\n",
        "import os\n",
        "from googleapiclient.discovery import build"
      ],
      "metadata": {
        "id": "GCXwPt_LGNg9"
      },
      "execution_count": null,
      "outputs": []
    },
    {
      "cell_type": "markdown",
      "source": [
        "# Google Drive Ops\n",
        "\n",
        "The code cell below does the following:\n",
        "- Authenticates Colab to enable access to files on Google Drive\n",
        "- Creates an instance of a Google Sheets `client` which enables Colab to specifically access Google Sheets within Google Drive\n",
        "- Opens the Metadata sheet."
      ],
      "metadata": {
        "id": "wPQZKkwOS02X"
      }
    },
    {
      "cell_type": "code",
      "source": [
        "# Authenticate\n",
        "auth.authenticate_user()\n",
        "creds, _ = default()\n",
        "\n",
        "# Create the Google Sheets client\n",
        "client = gspread.authorize(creds)\n",
        "service = build('sheets', 'v4', credentials=creds)\n",
        "\n",
        "# Open the Metadata Sheet\n",
        "sheet_id = \\\n",
        "  \"1E3GAnfUaiAhIlU-F2v-9EGlXFymngRmQ-K1pMsawX9s\" # Google Sheet ID of your Metadata sheet\n",
        "sheet = client.open_by_key(sheet_id)\n",
        "\n",
        "# Mount Google Drive for Colab to access it\n",
        "drive.mount('/content/drive')"
      ],
      "metadata": {
        "id": "9wmWKmeJHDjf",
        "colab": {
          "base_uri": "https://localhost:8080/"
        },
        "outputId": "89c1b74d-9ceb-4a9e-e48b-0c307e6d15e3"
      },
      "execution_count": null,
      "outputs": [
        {
          "output_type": "stream",
          "name": "stdout",
          "text": [
            "Mounted at /content/drive\n"
          ]
        }
      ]
    },
    {
      "cell_type": "markdown",
      "source": [
        "## Check if Required Tabs exist\n",
        "- B-02, B-05, B-08, B-17, C-03A, C-23, HH-04 City data already available\n",
        "- Others, download programmatically using links in Metadata file\n",
        "- Quick check to see if tabs are spelled as expected"
      ],
      "metadata": {
        "id": "kHfvoZw4Gtsy"
      }
    },
    {
      "cell_type": "code",
      "execution_count": null,
      "metadata": {
        "colab": {
          "base_uri": "https://localhost:8080/"
        },
        "id": "uyfVcCQvFYRU",
        "outputId": "482bfacb-6b4f-4c1b-dd37-732c772d33e2"
      },
      "outputs": [
        {
          "output_type": "stream",
          "name": "stdout",
          "text": [
            "All tabs exist.\n"
          ]
        }
      ],
      "source": [
        "# Get the list of sheet (tab) names\n",
        "tab_names = [worksheet.title for worksheet in sheet.worksheets()]\n",
        "\n",
        "# Tabs Needed\n",
        "total_plus_caste_granular_tabs = [\n",
        "    'D-02', 'F-01', 'F-05', 'F-09', 'B-01', 'B-03', 'C-02', 'C-20',\n",
        "    'B-07'\n",
        "]\n",
        "caste_granular_tabs = ['HL-14-SC-ST', 'B-04-SC-ST', 'B-06-SC-ST', 'HH-01-SC-ST']\n",
        "tehsil_granular_tab = 'HL-14-Total'\n",
        "no_caste_granularity_tabs = [\n",
        "    'HH-02', 'B-16', 'C-03', 'D-04', 'D-05', 'F-02', 'F-03', 'F-04', 'F-06',\n",
        "    'F-07', 'F-08', 'F-10', 'F-11', 'F-12', 'H-01', 'B-28', 'B-09',\n",
        "    'B-04-Total', 'B-06-Total', 'HH-01-Total'\n",
        "]\n",
        "tabs_to_check = total_plus_caste_granular_tabs + caste_granular_tabs + [tehsil_granular_tab] + no_caste_granularity_tabs\n",
        "\n",
        "# Check if each tab exists\n",
        "missing_tabs = [tab for tab in tabs_to_check if tab not in tab_names]\n",
        "\n",
        "# Print the results\n",
        "if missing_tabs:\n",
        "    print(\"Missing tabs:\")\n",
        "    for tab in missing_tabs:\n",
        "        print(f\"- {tab}\")\n",
        "else:\n",
        "    print(\"All tabs exist.\")"
      ]
    },
    {
      "cell_type": "markdown",
      "source": [
        "## Util Function: Download file from URL into Specified Google Drive"
      ],
      "metadata": {
        "id": "_B7_Dvh5Gqfv"
      }
    },
    {
      "cell_type": "code",
      "source": [
        "def download_and_save_to_drive(url, drive_folder_path, file_name):\n",
        "    \"\"\"\n",
        "    Downloads an file from a URL and saves it to a specified location in Google\n",
        "    Drive, with the specified name.\n",
        "\n",
        "    Args:\n",
        "        url (str): The URL of the file to download.\n",
        "        drive_folder_path (str): The folder path in Google Drive where the file will be saved.\n",
        "        file_name (str): The name to give the downloaded file.\n",
        "\n",
        "    Returns:\n",
        "        str: Full path of the saved file in Google Drive.\n",
        "    \"\"\"\n",
        "\n",
        "    # Full file path\n",
        "    file_path = os.path.join(drive_folder_path, file_name)\n",
        "\n",
        "    # Download the file\n",
        "    response = requests.get(url)\n",
        "    if response.status_code == 200:\n",
        "        # Extract file extension from the URL\n",
        "        _, extension = os.path.splitext(url)\n",
        "        if not extension:\n",
        "            print(\"Unable to determine file extension from URL. Saving without extension.\")\n",
        "            extension = \"\"\n",
        "\n",
        "        # Full file path with extension\n",
        "        file_path = os.path.join(drive_folder_path, f\"{file_name}{extension}\")\n",
        "\n",
        "        with open(file_path, 'wb') as f:\n",
        "            f.write(response.content)\n",
        "    else:\n",
        "        print(f\"Failed to download the file. HTTP Status Code: {response.status_code}\")"
      ],
      "metadata": {
        "id": "j6TdlK0UH32-"
      },
      "execution_count": null,
      "outputs": []
    },
    {
      "cell_type": "markdown",
      "source": [
        "## Util Function: Extract hyperlink from a Google Sheet Cell"
      ],
      "metadata": {
        "id": "chMX2wLHiZWS"
      }
    },
    {
      "cell_type": "code",
      "source": [
        "def extract_link(sheet_name, col_alpha, row, sheet_id):\n",
        "    # Get cell data with metadata\n",
        "    range_ = f\"{sheet_name}!{col_alpha}{row}\"\n",
        "    result = service.spreadsheets().get(\n",
        "        spreadsheetId=sheet_id,\n",
        "        ranges=range_,\n",
        "        fields=\"sheets(data(rowData(values(hyperlink))))\"\n",
        "    ).execute()\n",
        "\n",
        "    # Extract hyperlink\n",
        "    sheets_data = result.get('sheets', [])\n",
        "    cell_data = sheets_data[0]['data'][0]['rowData'][0]['values'][0]\n",
        "    return cell_data.get('hyperlink', None)  # Return the hyperlink if present"
      ],
      "metadata": {
        "id": "mnS7HjVDgf_m"
      },
      "execution_count": null,
      "outputs": []
    },
    {
      "cell_type": "code",
      "source": [
        "total_plus_caste_granular_tabs_num_rows = [37]*len(total_plus_caste_granular_tabs)\n",
        "caste_granular_tabs_num_rows = [37]*len(caste_granular_tabs)\n",
        "tehsil_granular_tab_num_rows = 642\n",
        "no_caste_granularity_tabs_num_rows = [35] + [37]*(len(no_caste_granularity_tabs)-2)+ [36]"
      ],
      "metadata": {
        "id": "bKyqa3fPWmJh"
      },
      "execution_count": null,
      "outputs": []
    },
    {
      "cell_type": "code",
      "source": [
        "drive_folder_path = \\\n",
        "  \"/content/drive/MyDrive/Socratus/Census Data/2011 Data\" # folder to dump\n",
        "  # scraped data - change this as needed; don't forget to retain the\n",
        "  # \"/content/drive\" - that is where your Google Drive is mounted on the\n",
        "  # Colab environment"
      ],
      "metadata": {
        "id": "8GhSar7KoDPz"
      },
      "execution_count": null,
      "outputs": []
    },
    {
      "cell_type": "code",
      "source": [
        "def cell_routine(tab_name, col_alpha, row, file_name):\n",
        "  link = extract_link(tab_name, col_alpha, row, sheet_id)\n",
        "  download_and_save_to_drive(link, drive_folder_path, file_name)"
      ],
      "metadata": {
        "id": "N532q69bn5x_"
      },
      "execution_count": null,
      "outputs": []
    },
    {
      "cell_type": "code",
      "source": [
        "def get_data(tab_name_list, num_rows_list,\n",
        "             table_type=\"Total Plus Caste Granular\", start_from_row = 4):\n",
        "    for tab_idx, tab_name in enumerate(tab_name_list):\n",
        "      tab = sheet.worksheet(tab_name)\n",
        "      num_rows = num_rows_list[tab_idx]\n",
        "      for row_num in range(start_from_row, num_rows + 3):\n",
        "        if table_type == \"Total Plus Caste Granular\":\n",
        "            location = tab.cell(row_num, 1).value.replace(\" \", \"_\")\n",
        "            total_cell = tab.cell(row_num, 2)\n",
        "            if total_cell.value != \"N/A\":\n",
        "              name = f\"{tab_name}_{location}_total\"\n",
        "              cell_routine(tab_name, \"B\", row_num, name)\n",
        "            sc_cell = tab.cell(row_num, 3)\n",
        "            if sc_cell.value != \"N/A\":\n",
        "              name = f\"{tab_name}_{location}_sc\"\n",
        "              cell_routine(tab_name, \"C\", row_num, name)\n",
        "            st_cell = tab.cell(row_num, 4)\n",
        "            if st_cell.value != \"N/A\":\n",
        "              name = f\"{tab_name}_{location}_st\"\n",
        "              cell_routine(tab_name, \"D\", row_num, name)\n",
        "        if table_type == \"Caste Granular\":\n",
        "            location = tab.cell(row_num, 1).value.replace(\" \", \"_\")\n",
        "            sc_cell = tab.cell(row_num, 2)\n",
        "            if sc_cell.value != \"N/A\":\n",
        "              name = f\"{tab_name}_{location}_sc\"\n",
        "              cell_routine(tab_name, \"B\", row_num, name)\n",
        "            st_cell = tab.cell(row_num, 3)\n",
        "            if st_cell.value != \"N/A\":\n",
        "              name = f\"{tab_name}_{location}_st\"\n",
        "              cell_routine(tab_name, \"C\", row_num, name)\n",
        "        elif table_type == \"Tehsil Granular\":\n",
        "            state = tab.cell(row_num, 1).value.replace(\" \", \"_\")\n",
        "            district = tab.cell(row_num, 2).value.replace(\" \", \"_\")\n",
        "            total_cell = tab.cell(row_num, 3)\n",
        "            if total_cell.value != \"N/A\":\n",
        "              name = f\"{tab_name}_{state}_{district}_total\"\n",
        "              cell_routine(tab_name, \"C\", row_num, name)\n",
        "        else:\n",
        "            location = tab.cell(row_num, 1).value.replace(\" \", \"_\")\n",
        "            total_cell = tab.cell(row_num, 2)\n",
        "            if total_cell.value != \"N/A\":\n",
        "              name = f\"{tab_name}_{location}_total\"\n",
        "              cell_routine(tab_name, \"B\", row_num, name)\n",
        "      print(f\"Tab {tab_name} done\")"
      ],
      "metadata": {
        "id": "qTF9it0FbBy5"
      },
      "execution_count": null,
      "outputs": []
    },
    {
      "cell_type": "code",
      "source": [
        "get_data(total_plus_caste_granular_tabs, total_plus_caste_granular_tabs_num_rows)\n",
        "get_data(caste_granular_tabs, caste_granular_tabs_num_rows, \"Caste Granular\")\n",
        "get_data([tehsil_granular_tab], [tehsil_granular_tab_num_rows], \"Tehsil Granular\")\n",
        "get_data(no_caste_granularity_tabs, no_caste_granularity_tabs_num_rows, \"No Caste Granularity\")"
      ],
      "metadata": {
        "id": "Is3ZUjx2jUw7"
      },
      "execution_count": null,
      "outputs": []
    }
  ]
}